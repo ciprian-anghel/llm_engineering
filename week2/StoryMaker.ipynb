{
 "cells": [
  {
   "cell_type": "markdown",
   "id": "7e503fb9",
   "metadata": {},
   "source": [
    "# Documentation\n",
    "- [Tools guides](https://platform.openai.com/docs/guides/tools)"
   ]
  },
  {
   "cell_type": "markdown",
   "id": "11fad58d",
   "metadata": {},
   "source": [
    "Text / Audio generated story:\n",
    "\n",
    "Input - text - button to ask AI to generate the idea:\n",
    "\"Provide a short description: \"\n",
    "\n",
    "Input - dropdown:\n",
    "\"Pick a language:\"\n",
    "\n",
    "Input - dropdown - default NO\n",
    "\"Want to read the story for you?\": YES / NO\n",
    "\n",
    "Input - dropdown - default NO\n",
    "\"Want to generate a cover image?\": YES / NO\n",
    "\n",
    "\n",
    "Text → OpenAI GPT API.\n",
    "Image → OpenAI DALL·E API (simple) or Stable Diffusion.\n",
    "Voice or OpenAI → pyttsx3 (quick to set up, no API key needed)."
   ]
  },
  {
   "cell_type": "code",
   "execution_count": 1,
   "id": "34d8996a",
   "metadata": {},
   "outputs": [],
   "source": [
    "import gradio as gr\n",
    "from openai import OpenAI\n",
    "from dotenv import load_dotenv\n",
    "import base64\n",
    "from io import BytesIO\n",
    "from PIL import Image"
   ]
  },
  {
   "cell_type": "code",
   "execution_count": 2,
   "id": "da20ecf0",
   "metadata": {},
   "outputs": [],
   "source": [
    "load_dotenv(override=True)\n",
    "openai = OpenAI()\n",
    "\n",
    "MODEL = \"gpt-4o-mini\"\n",
    "TTS_MODEL = \"gpt-4o-mini-tts\"\n",
    "\n",
    "SYSTEM_MESSAGE_SEED = (\n",
    "    'You are a creative writing assistant. Your task is to generate short story seeds:\\n'\n",
    "    'one to three sentence prompts that introduce an intriguing situation, a compelling character, or a unique world.\\n'\n",
    "    'The seeds should spark imagination without resolving the story. Always keep them concise and open-ended.'\n",
    ")\n",
    "\n",
    "MESSAGE_SEED = 'Create a seed for a story. Use {language} as a language.'\n",
    "\n",
    "SYSTEM_MESSAGE_STORY = (\n",
    "    \"You are a creative story-generating AI. Your task is to write engaging, coherent, and well-structured stories based on a short seed provided by the user.\\n\"\n",
    "    \"Each story must include the essential elements of a good narrative:\\n\"\n",
    "    \"1. **Introduction/Setting:** Introduce the main characters, time, and place.\\n\"\n",
    "    \"2. **Conflict/Problem:** Present a challenge, conflict, or goal that drives the story.\\n\"\n",
    "    \"3. **Rising Action:** Show the characters facing challenges and developing the plot.\\n\"\n",
    "    \"4. **Climax:** Include a turning point or the most exciting moment of the story.\\n\"\n",
    "    \"5. **Falling Action:** Show how the conflict begins to resolve.\\n\"\n",
    "    \"6. **Resolution/Conclusion:** End the story with a satisfying conclusion, resolving the main conflict.\\n\"\n",
    "    \"**Requirements:**\\n\"\n",
    "    \"- Use clear, descriptive language.\\n\"\n",
    "    \"- Maintain logical flow and coherence between sections.\\n\"\n",
    "    \"- The story should be engaging, imaginative, and appropriate for a general audience.\\n\"\n",
    "    \"- Base the story on the user-provided seed, but feel free to expand creatively.\\n\"\n",
    "    \"- Output the full story as one continuous text.\\n\"\n",
    "    \"- The entire story should be between 300-800 words.\\n\"\n",
    "    \"Example:\\n\"\n",
    "    'If the seed is \"A young girl discovers a hidden door in her school,\" you might write a story that starts with her everyday life, describes finding the door, the mystery inside, her challenges exploring it, and concludes with how this experience changes her.\\n'\n",
    "    \"Always ensure your output is structured and contains all story elements listed above.\\n\"\n",
    ")\n",
    "\n",
    "MESSAGE_STORY = 'Create a story based on the following seed: {seed}. Use {language} as a language.'"
   ]
  },
  {
   "cell_type": "code",
   "execution_count": 3,
   "id": "c0f19427",
   "metadata": {},
   "outputs": [],
   "source": [
    "def getLanguage(language):\n",
    "    if (language == 'RO'):\n",
    "        return 'Romanian'\n",
    "    return 'English'\n",
    "\n",
    "def generateSeed(language):\n",
    "    message = [{'role':'system', 'content':SYSTEM_MESSAGE_SEED}, \n",
    "               {'role':'user', 'content':MESSAGE_SEED.format(language=getLanguage(language))}]\n",
    "    response = openai.chat.completions.create(model=MODEL, messages=message)\n",
    "    return response.choices[0].message.content\n",
    "\n",
    "def generateStory(storySeed, language):\n",
    "    message = [{'role':'system', 'content':SYSTEM_MESSAGE_STORY}, \n",
    "               {'role':'user', 'content':MESSAGE_STORY.format(seed=storySeed, language=getLanguage(language))}]\n",
    "    response = openai.chat.completions.create(model=MODEL, messages=message)\n",
    "    return response.choices[0].message.content\n",
    "\n",
    "def generateImage(storySeed):\n",
    "    image_response = openai.images.generate(\n",
    "            model=\"dall-e-3\",\n",
    "            prompt=\"An image representation based on the following seed: {seed}\".format(seed=storySeed),\n",
    "            size=\"1024x1024\",\n",
    "            n=1,\n",
    "            response_format=\"b64_json\",\n",
    "        )\n",
    "    image_base64 = image_response.data[0].b64_json\n",
    "    image_data = base64.b64decode(image_base64)\n",
    "    return Image.open(BytesIO(image_data))\n",
    "\n",
    "def readStory(fullStory):\n",
    "    audio_response = openai.audio.speech.create(\n",
    "        model=TTS_MODEL,\n",
    "        voice='alloy',\n",
    "        input=fullStory\n",
    "    )\n",
    "    \n",
    "    with open(\"output.wav\", \"wb\") as f:\n",
    "        f.write(audio_response.read())        \n",
    "    \n",
    "    print('Audio file has been saved')\n",
    "\n",
    "def storyTime(storySeed, language, doGenerateImage):\n",
    "    if (doGenerateImage == True):\n",
    "        return generateStory(storySeed, language), generateImage(storySeed)\n",
    "    else:\n",
    "        return generateStory(storySeed, language), gr.Image()\n",
    "    "
   ]
  },
  {
   "cell_type": "code",
   "execution_count": 6,
   "id": "05bcb8b3",
   "metadata": {},
   "outputs": [
    {
     "name": "stdout",
     "output_type": "stream",
     "text": [
      "* Running on local URL:  http://127.0.0.1:7862\n",
      "* Running on public URL: https://c78788647189248f71.gradio.live\n",
      "\n",
      "This share link expires in 1 week. For free permanent hosting and GPU upgrades, run `gradio deploy` from the terminal in the working directory to deploy to Hugging Face Spaces (https://huggingface.co/spaces)\n"
     ]
    },
    {
     "data": {
      "text/html": [
       "<div><iframe src=\"https://c78788647189248f71.gradio.live\" width=\"100%\" height=\"500\" allow=\"autoplay; camera; microphone; clipboard-read; clipboard-write;\" frameborder=\"0\" allowfullscreen></iframe></div>"
      ],
      "text/plain": [
       "<IPython.core.display.HTML object>"
      ]
     },
     "metadata": {},
     "output_type": "display_data"
    },
    {
     "name": "stdout",
     "output_type": "stream",
     "text": [
      "Audio file has been saved\n"
     ]
    }
   ],
   "source": [
    "with gr.Blocks() as layout:\n",
    "    gr.Markdown('## Story Details')\n",
    "    with gr.Row(equal_height=True):\n",
    "        with gr.Column(scale=0, min_width=100):\n",
    "            generate_seed_btn = gr.Button('Generate Seed')\n",
    "        with gr.Column(scale=10):\n",
    "            input_text_story = gr.Textbox(label='Write your story seed', lines=3)\n",
    "    with gr.Row():\n",
    "        with gr.Column():\n",
    "            input_bool_lang = gr.Dropdown(label='Pick a language', choices=['EN', 'RO'], value='EN') \n",
    "        with gr.Column():\n",
    "            input_bool_image = gr.Dropdown(label='Create cover image', choices=[True, False], value=False)\n",
    "    with gr.Row():\n",
    "        with gr.Column(scale=4):\n",
    "            generate_story_btn = gr.Button('Generate Story')\n",
    "        with gr.Column(scale=1):\n",
    "            read_story_btn = gr.Button(value='Read the story', interactive=True)\n",
    "\n",
    "    # Result\n",
    "    gr.Markdown(\"## Here is the story\")\n",
    "    with gr.Row(equal_height=True):\n",
    "        with gr.Column(scale=2):\n",
    "            output_text = gr.Textbox(label='Story', lines=20)\n",
    "        with gr.Column(scale=1):\n",
    "            output_image = gr.Image(label='Cover', height=512, min_width=512)\n",
    "    \n",
    "    generate_seed_btn.click(\n",
    "        fn=generateSeed, \n",
    "        inputs=[input_bool_lang], \n",
    "        outputs=input_text_story\n",
    "    )\n",
    "    generate_story_btn.click(\n",
    "        fn=storyTime,\n",
    "        inputs=[input_text_story, input_bool_lang, input_bool_image],\n",
    "        outputs=[output_text, output_image]\n",
    "    )\n",
    "\n",
    "    read_story_btn.click(\n",
    "        fn=readStory,\n",
    "        inputs=output_text,\n",
    "        outputs=None\n",
    "    )\n",
    "    layout.launch(share=True)\n",
    "    # layout.launch()"
   ]
  }
 ],
 "metadata": {
  "kernelspec": {
   "display_name": "llms2",
   "language": "python",
   "name": "python3"
  },
  "language_info": {
   "codemirror_mode": {
    "name": "ipython",
    "version": 3
   },
   "file_extension": ".py",
   "mimetype": "text/x-python",
   "name": "python",
   "nbconvert_exporter": "python",
   "pygments_lexer": "ipython3",
   "version": "3.11.13"
  }
 },
 "nbformat": 4,
 "nbformat_minor": 5
}
